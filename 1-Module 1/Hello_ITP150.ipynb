{
 "cells": [
  {
   "cell_type": "markdown",
   "id": "514eef86-3e05-4475-9542-685f246f53ab",
   "metadata": {
    "tags": []
   },
   "source": [
    "### This is the first code for ITP150"
   ]
  },
  {
   "cell_type": "code",
   "execution_count": 6,
   "id": "1b5e4fd2-d9be-4235-8132-ab513e2cea37",
   "metadata": {
    "tags": []
   },
   "outputs": [
    {
     "name": "stdout",
     "output_type": "stream",
     "text": [
      "Ye! Your codespace for ITP150 course is working!\n"
     ]
    }
   ],
   "source": [
    "print(\"Ye! Your codespace for ITP150 course is working!\")"
   ]
  },
  {
   "cell_type": "raw",
   "id": "37129a2a-8de9-4028-8ddc-c3a4a5a6d92a",
   "metadata": {},
   "source": []
  },
  {
   "cell_type": "code",
   "execution_count": null,
   "id": "97e2c33a-0a4b-41c2-a313-514a3d1f12f6",
   "metadata": {},
   "outputs": [],
   "source": []
  }
 ],
 "metadata": {
  "kernelspec": {
   "display_name": "default:Python",
   "language": "python",
   "name": "conda-env-default-py"
  },
  "language_info": {
   "codemirror_mode": {
    "name": "ipython",
    "version": 3
   },
   "file_extension": ".py",
   "mimetype": "text/x-python",
   "name": "python",
   "nbconvert_exporter": "python",
   "pygments_lexer": "ipython3",
   "version": "3.9.16"
  }
 },
 "nbformat": 4,
 "nbformat_minor": 5
}
